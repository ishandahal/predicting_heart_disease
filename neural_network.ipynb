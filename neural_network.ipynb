{
 "cells": [
  {
   "cell_type": "markdown",
   "id": "banner-student",
   "metadata": {},
   "source": [
    "### Using Neural Networks"
   ]
  },
  {
   "cell_type": "markdown",
   "id": "conservative-oregon",
   "metadata": {},
   "source": [
    "Imports"
   ]
  },
  {
   "cell_type": "code",
   "execution_count": 1,
   "id": "controlled-pennsylvania",
   "metadata": {},
   "outputs": [],
   "source": [
    "# conda install -c pytorch torchvision "
   ]
  },
  {
   "cell_type": "code",
   "execution_count": 2,
   "id": "immune-tucson",
   "metadata": {},
   "outputs": [],
   "source": [
    "## imports\n",
    "\n",
    "import time\n",
    "import numpy as np\n",
    "import torch\n",
    "import torch.nn as nn \n",
    "import torch.nn.functional as F\n",
    "from torch.utils.data import DataLoader\n",
    "from torch.utils.data import Dataset, random_split\n",
    "from torchvision import datasets\n",
    "from torchvision import transforms\n",
    "from sklearn.preprocessing import StandardScaler\n",
    "import pandas as pd\n",
    "from sklearn.pipeline import Pipeline\n",
    "from sklearn.compose import ColumnTransformer\n",
    "from sklearn.model_selection import train_test_split\n",
    "import matplotlib.pyplot as plt\n",
    "from sklearn.metrics import confusion_matrix, accuracy_score, classification_report, roc_auc_score, roc_curve"
   ]
  },
  {
   "cell_type": "code",
   "execution_count": 3,
   "id": "olympic-milan",
   "metadata": {},
   "outputs": [
    {
     "data": {
      "text/html": [
       "<div>\n",
       "<style scoped>\n",
       "    .dataframe tbody tr th:only-of-type {\n",
       "        vertical-align: middle;\n",
       "    }\n",
       "\n",
       "    .dataframe tbody tr th {\n",
       "        vertical-align: top;\n",
       "    }\n",
       "\n",
       "    .dataframe thead th {\n",
       "        text-align: right;\n",
       "    }\n",
       "</style>\n",
       "<table border=\"1\" class=\"dataframe\">\n",
       "  <thead>\n",
       "    <tr style=\"text-align: right;\">\n",
       "      <th></th>\n",
       "      <th>age</th>\n",
       "      <th>sex</th>\n",
       "      <th>cp</th>\n",
       "      <th>trestbps</th>\n",
       "      <th>chol</th>\n",
       "      <th>fbs</th>\n",
       "      <th>restecg</th>\n",
       "      <th>thalach</th>\n",
       "      <th>exang</th>\n",
       "      <th>oldpeak</th>\n",
       "      <th>slope</th>\n",
       "      <th>ca</th>\n",
       "      <th>thal</th>\n",
       "      <th>target</th>\n",
       "    </tr>\n",
       "  </thead>\n",
       "  <tbody>\n",
       "    <tr>\n",
       "      <th>0</th>\n",
       "      <td>63</td>\n",
       "      <td>1</td>\n",
       "      <td>3</td>\n",
       "      <td>145</td>\n",
       "      <td>233</td>\n",
       "      <td>1</td>\n",
       "      <td>0</td>\n",
       "      <td>150</td>\n",
       "      <td>0</td>\n",
       "      <td>2.3</td>\n",
       "      <td>0</td>\n",
       "      <td>0</td>\n",
       "      <td>1</td>\n",
       "      <td>1</td>\n",
       "    </tr>\n",
       "    <tr>\n",
       "      <th>1</th>\n",
       "      <td>37</td>\n",
       "      <td>1</td>\n",
       "      <td>2</td>\n",
       "      <td>130</td>\n",
       "      <td>250</td>\n",
       "      <td>0</td>\n",
       "      <td>1</td>\n",
       "      <td>187</td>\n",
       "      <td>0</td>\n",
       "      <td>3.5</td>\n",
       "      <td>0</td>\n",
       "      <td>0</td>\n",
       "      <td>2</td>\n",
       "      <td>1</td>\n",
       "    </tr>\n",
       "    <tr>\n",
       "      <th>2</th>\n",
       "      <td>41</td>\n",
       "      <td>0</td>\n",
       "      <td>1</td>\n",
       "      <td>130</td>\n",
       "      <td>204</td>\n",
       "      <td>0</td>\n",
       "      <td>0</td>\n",
       "      <td>172</td>\n",
       "      <td>0</td>\n",
       "      <td>1.4</td>\n",
       "      <td>2</td>\n",
       "      <td>0</td>\n",
       "      <td>2</td>\n",
       "      <td>1</td>\n",
       "    </tr>\n",
       "    <tr>\n",
       "      <th>3</th>\n",
       "      <td>56</td>\n",
       "      <td>1</td>\n",
       "      <td>1</td>\n",
       "      <td>120</td>\n",
       "      <td>236</td>\n",
       "      <td>0</td>\n",
       "      <td>1</td>\n",
       "      <td>178</td>\n",
       "      <td>0</td>\n",
       "      <td>0.8</td>\n",
       "      <td>2</td>\n",
       "      <td>0</td>\n",
       "      <td>2</td>\n",
       "      <td>1</td>\n",
       "    </tr>\n",
       "    <tr>\n",
       "      <th>4</th>\n",
       "      <td>57</td>\n",
       "      <td>0</td>\n",
       "      <td>0</td>\n",
       "      <td>120</td>\n",
       "      <td>354</td>\n",
       "      <td>0</td>\n",
       "      <td>1</td>\n",
       "      <td>163</td>\n",
       "      <td>1</td>\n",
       "      <td>0.6</td>\n",
       "      <td>2</td>\n",
       "      <td>0</td>\n",
       "      <td>2</td>\n",
       "      <td>1</td>\n",
       "    </tr>\n",
       "  </tbody>\n",
       "</table>\n",
       "</div>"
      ],
      "text/plain": [
       "   age  sex  cp  trestbps  chol  fbs  restecg  thalach  exang  oldpeak  slope  \\\n",
       "0   63    1   3       145   233    1        0      150      0      2.3      0   \n",
       "1   37    1   2       130   250    0        1      187      0      3.5      0   \n",
       "2   41    0   1       130   204    0        0      172      0      1.4      2   \n",
       "3   56    1   1       120   236    0        1      178      0      0.8      2   \n",
       "4   57    0   0       120   354    0        1      163      1      0.6      2   \n",
       "\n",
       "   ca  thal  target  \n",
       "0   0     1       1  \n",
       "1   0     2       1  \n",
       "2   0     2       1  \n",
       "3   0     2       1  \n",
       "4   0     2       1  "
      ]
     },
     "execution_count": 3,
     "metadata": {},
     "output_type": "execute_result"
    }
   ],
   "source": [
    "# loading the dataset\n",
    "\n",
    "df = pd.read_csv('data/archive.zip')\n",
    "df.head()"
   ]
  },
  {
   "cell_type": "code",
   "execution_count": 4,
   "id": "vulnerable-murder",
   "metadata": {},
   "outputs": [
    {
     "data": {
      "text/plain": [
       "(303, 14)"
      ]
     },
     "execution_count": 4,
     "metadata": {},
     "output_type": "execute_result"
    }
   ],
   "source": [
    "df.shape"
   ]
  },
  {
   "cell_type": "code",
   "execution_count": 5,
   "id": "colored-simple",
   "metadata": {},
   "outputs": [
    {
     "data": {
      "text/html": [
       "<div>\n",
       "<style scoped>\n",
       "    .dataframe tbody tr th:only-of-type {\n",
       "        vertical-align: middle;\n",
       "    }\n",
       "\n",
       "    .dataframe tbody tr th {\n",
       "        vertical-align: top;\n",
       "    }\n",
       "\n",
       "    .dataframe thead th {\n",
       "        text-align: right;\n",
       "    }\n",
       "</style>\n",
       "<table border=\"1\" class=\"dataframe\">\n",
       "  <thead>\n",
       "    <tr style=\"text-align: right;\">\n",
       "      <th></th>\n",
       "      <th>age</th>\n",
       "      <th>sex</th>\n",
       "      <th>cp</th>\n",
       "      <th>trestbps</th>\n",
       "      <th>chol</th>\n",
       "      <th>fbs</th>\n",
       "      <th>restecg</th>\n",
       "      <th>thalach</th>\n",
       "      <th>exang</th>\n",
       "      <th>oldpeak</th>\n",
       "      <th>slope</th>\n",
       "      <th>ca</th>\n",
       "      <th>thal</th>\n",
       "    </tr>\n",
       "  </thead>\n",
       "  <tbody>\n",
       "    <tr>\n",
       "      <th>0</th>\n",
       "      <td>63</td>\n",
       "      <td>1</td>\n",
       "      <td>3</td>\n",
       "      <td>145</td>\n",
       "      <td>233</td>\n",
       "      <td>1</td>\n",
       "      <td>0</td>\n",
       "      <td>150</td>\n",
       "      <td>0</td>\n",
       "      <td>2.3</td>\n",
       "      <td>0</td>\n",
       "      <td>0</td>\n",
       "      <td>1</td>\n",
       "    </tr>\n",
       "    <tr>\n",
       "      <th>1</th>\n",
       "      <td>37</td>\n",
       "      <td>1</td>\n",
       "      <td>2</td>\n",
       "      <td>130</td>\n",
       "      <td>250</td>\n",
       "      <td>0</td>\n",
       "      <td>1</td>\n",
       "      <td>187</td>\n",
       "      <td>0</td>\n",
       "      <td>3.5</td>\n",
       "      <td>0</td>\n",
       "      <td>0</td>\n",
       "      <td>2</td>\n",
       "    </tr>\n",
       "    <tr>\n",
       "      <th>2</th>\n",
       "      <td>41</td>\n",
       "      <td>0</td>\n",
       "      <td>1</td>\n",
       "      <td>130</td>\n",
       "      <td>204</td>\n",
       "      <td>0</td>\n",
       "      <td>0</td>\n",
       "      <td>172</td>\n",
       "      <td>0</td>\n",
       "      <td>1.4</td>\n",
       "      <td>2</td>\n",
       "      <td>0</td>\n",
       "      <td>2</td>\n",
       "    </tr>\n",
       "    <tr>\n",
       "      <th>3</th>\n",
       "      <td>56</td>\n",
       "      <td>1</td>\n",
       "      <td>1</td>\n",
       "      <td>120</td>\n",
       "      <td>236</td>\n",
       "      <td>0</td>\n",
       "      <td>1</td>\n",
       "      <td>178</td>\n",
       "      <td>0</td>\n",
       "      <td>0.8</td>\n",
       "      <td>2</td>\n",
       "      <td>0</td>\n",
       "      <td>2</td>\n",
       "    </tr>\n",
       "    <tr>\n",
       "      <th>4</th>\n",
       "      <td>57</td>\n",
       "      <td>0</td>\n",
       "      <td>0</td>\n",
       "      <td>120</td>\n",
       "      <td>354</td>\n",
       "      <td>0</td>\n",
       "      <td>1</td>\n",
       "      <td>163</td>\n",
       "      <td>1</td>\n",
       "      <td>0.6</td>\n",
       "      <td>2</td>\n",
       "      <td>0</td>\n",
       "      <td>2</td>\n",
       "    </tr>\n",
       "  </tbody>\n",
       "</table>\n",
       "</div>"
      ],
      "text/plain": [
       "   age  sex  cp  trestbps  chol  fbs  restecg  thalach  exang  oldpeak  slope  \\\n",
       "0   63    1   3       145   233    1        0      150      0      2.3      0   \n",
       "1   37    1   2       130   250    0        1      187      0      3.5      0   \n",
       "2   41    0   1       130   204    0        0      172      0      1.4      2   \n",
       "3   56    1   1       120   236    0        1      178      0      0.8      2   \n",
       "4   57    0   0       120   354    0        1      163      1      0.6      2   \n",
       "\n",
       "   ca  thal  \n",
       "0   0     1  \n",
       "1   0     2  \n",
       "2   0     2  \n",
       "3   0     2  \n",
       "4   0     2  "
      ]
     },
     "execution_count": 5,
     "metadata": {},
     "output_type": "execute_result"
    }
   ],
   "source": [
    "## getting the features\n",
    "\n",
    "X = df.drop(labels='target', axis=1)\n",
    "X.head()"
   ]
  },
  {
   "cell_type": "code",
   "execution_count": 6,
   "id": "alien-billy",
   "metadata": {},
   "outputs": [],
   "source": [
    "## labels \n",
    "y = df['target']"
   ]
  },
  {
   "cell_type": "code",
   "execution_count": 7,
   "id": "documented-canada",
   "metadata": {},
   "outputs": [
    {
     "data": {
      "text/plain": [
       "((272, 13), (31, 13), (272,), (31,))"
      ]
     },
     "execution_count": 7,
     "metadata": {},
     "output_type": "execute_result"
    }
   ],
   "source": [
    "## splitting training and test set\n",
    "\n",
    "X_train, X_test, y_train, y_test = train_test_split(X, y, test_size=0.1, stratify=y)\n",
    "X_train.shape, X_test.shape, y_train.shape, y_test.shape"
   ]
  },
  {
   "cell_type": "code",
   "execution_count": 8,
   "id": "armed-journey",
   "metadata": {},
   "outputs": [],
   "source": [
    "## scaling the continuous features\n",
    "\n",
    "numerical_features = ['age', 'trestbps', \"chol\", \"thalach\", \"oldpeak\"]\n",
    "\n",
    "numeric_transformer = Pipeline(steps= [\n",
    "    (\"scaler\", StandardScaler())\n",
    "])\n",
    "\n",
    "preprocessor = ColumnTransformer(\n",
    "        transformers=[\n",
    "            ('num', numeric_transformer, numerical_features)\n",
    "        ], remainder='passthrough')"
   ]
  },
  {
   "cell_type": "code",
   "execution_count": 9,
   "id": "surprised-bullet",
   "metadata": {},
   "outputs": [],
   "source": [
    "## scaled features\n",
    "\n",
    "X_transform = preprocessor.fit_transform(X_train)"
   ]
  },
  {
   "cell_type": "code",
   "execution_count": 10,
   "id": "progressive-xerox",
   "metadata": {},
   "outputs": [],
   "source": [
    "## Converting dataset to tensor\n",
    "\n",
    "X_train_tnsr = torch.tensor(X_transform, dtype=torch.float32)\n",
    "y_train_tnsr = torch.tensor(np.array(y_train))"
   ]
  },
  {
   "cell_type": "code",
   "execution_count": 11,
   "id": "bronze-fortune",
   "metadata": {},
   "outputs": [
    {
     "data": {
      "text/plain": [
       "torch.int64"
      ]
     },
     "execution_count": 11,
     "metadata": {},
     "output_type": "execute_result"
    }
   ],
   "source": [
    "# looking at the data type\n",
    "y_train_tnsr.dtype"
   ]
  },
  {
   "cell_type": "code",
   "execution_count": 12,
   "id": "comparable-knowing",
   "metadata": {},
   "outputs": [],
   "source": [
    "## Scaling the test set\n",
    "\n",
    "X_test_transform = preprocessor.transform(X_test)"
   ]
  },
  {
   "cell_type": "code",
   "execution_count": 13,
   "id": "rolled-prisoner",
   "metadata": {},
   "outputs": [],
   "source": [
    "## Converting dataset to tensor\n",
    "\n",
    "X_test_tnsr = torch.tensor(X_test_transform, dtype=torch.float32)\n",
    "y_test_tnsr = torch.tensor(np.array(y_test))"
   ]
  },
  {
   "cell_type": "markdown",
   "id": "static-contrast",
   "metadata": {},
   "source": [
    "Model Settings "
   ]
  },
  {
   "cell_type": "code",
   "execution_count": 14,
   "id": "cognitive-recording",
   "metadata": {},
   "outputs": [],
   "source": [
    "## Hyper-parameters\n",
    "\n",
    "LEARNING_RATE = 0.001\n",
    "NUM_EPOCHS = 500\n",
    "\n",
    "NUM_FEATURES = 13\n",
    "NUM_CLASSES = 2"
   ]
  },
  {
   "cell_type": "code",
   "execution_count": 15,
   "id": "accompanied-namibia",
   "metadata": {},
   "outputs": [],
   "source": [
    "### model\n",
    "\n",
    "class MLP(nn.Module):\n",
    "    def __init__(self, in_features, num_classes):\n",
    "        super(MLP, self).__init__()\n",
    "        \n",
    "        self.num_classes = num_classes\n",
    "        self.in_features = in_features\n",
    "        \n",
    "        self.classifier = nn.Sequential(\n",
    "            nn.Linear(in_features=self.in_features, out_features=256),\n",
    "            nn.ReLU(),\n",
    "            nn.Linear(in_features=256, out_features=128),\n",
    "            nn.ReLU(),\n",
    "            nn.Linear(in_features=128, out_features=num_classes))\n",
    "        \n",
    "    def forward(self, X):\n",
    "        logits = self.classifier(X)\n",
    "        probas = F.softmax(logits, dim=1)\n",
    "        return logits, probas\n",
    "    \n",
    "    def predict_(self, X):\n",
    "        logits, probas = self.forward(X)\n",
    "        predictions = torch.where(probas > .5, torch.tensor([1]), torch.tensor([0]))\n",
    "        predictions = torch.argmax(predictions, dim=1)\n",
    "        return predictions     \n",
    "    \n",
    "    def accuracy(self, X, y):\n",
    "        predictions = self.predict_(X)\n",
    "        total_correct = predictions == y\n",
    "        return torch.true_divide(torch.sum(total_correct), total_correct.size(0))"
   ]
  },
  {
   "cell_type": "code",
   "execution_count": 16,
   "id": "acute-malawi",
   "metadata": {},
   "outputs": [],
   "source": [
    "## Model initialization\n",
    "\n",
    "model = MLP(in_features=NUM_FEATURES, num_classes=NUM_CLASSES)\n",
    "\n",
    "## optimizer\n",
    "optimizer = torch.optim.Adam(model.parameters(), lr=LEARNING_RATE)"
   ]
  },
  {
   "cell_type": "code",
   "execution_count": 17,
   "id": "mounted-arctic",
   "metadata": {},
   "outputs": [],
   "source": [
    "## Compute loss\n",
    "\n",
    "def compute_loss(model, features, targets):\n",
    "    curr_loss = 0\n",
    "    with torch.no_grad():\n",
    "        logits, probas = model(features)\n",
    "        loss = F.cross_entropy(logits, targets)\n",
    "        curr_loss += loss\n",
    "    return float(curr_loss)/features.size(0)"
   ]
  },
  {
   "cell_type": "code",
   "execution_count": 18,
   "id": "cloudy-sample",
   "metadata": {},
   "outputs": [
    {
     "name": "stdout",
     "output_type": "stream",
     "text": [
      "Epoch: 001/500 Train cost: 0.0024\n",
      "Time elapsed: 0.00min\n",
      "Epoch: 051/500 Train cost: 0.0009\n",
      "Time elapsed: 0.00min\n",
      "Epoch: 101/500 Train cost: 0.0002\n",
      "Time elapsed: 0.01min\n",
      "Epoch: 151/500 Train cost: 0.0000\n",
      "Time elapsed: 0.01min\n",
      "Epoch: 201/500 Train cost: 0.0000\n",
      "Time elapsed: 0.01min\n",
      "Epoch: 251/500 Train cost: 0.0000\n",
      "Time elapsed: 0.01min\n",
      "Epoch: 301/500 Train cost: 0.0000\n",
      "Time elapsed: 0.02min\n",
      "Epoch: 351/500 Train cost: 0.0000\n",
      "Time elapsed: 0.02min\n",
      "Epoch: 401/500 Train cost: 0.0000\n",
      "Time elapsed: 0.02min\n",
      "Epoch: 451/500 Train cost: 0.0000\n",
      "Time elapsed: 0.03min\n"
     ]
    }
   ],
   "source": [
    "## train the model \n",
    "## We only have small amount of datasets so we will train them all in one batch\n",
    "\n",
    "features = X_train_tnsr\n",
    "targets = y_train_tnsr\n",
    "\n",
    "start_time = time.time()\n",
    "epoch_cost = []\n",
    "for epoch in range(NUM_EPOCHS):\n",
    "    model.train()\n",
    "\n",
    "\n",
    "    # forward prop and back prop\n",
    "    logits, probas = model(features)\n",
    "\n",
    "    cost = F.cross_entropy(logits, targets)\n",
    "    optimizer.zero_grad()\n",
    "\n",
    "    cost.backward()\n",
    "\n",
    "    optimizer.step()\n",
    "\n",
    "    \n",
    "    cost = compute_loss(model, X_train_tnsr, y_train_tnsr)\n",
    "    epoch_cost.append(cost)\n",
    "    if epoch % 50 == 0:\n",
    "        print(f\"Epoch: {epoch+1:03d}/{NUM_EPOCHS} Train cost: {cost:.4f}\")\n",
    "        print(f\"Time elapsed: {(time.time() - start_time)/60:.2f}min\")"
   ]
  },
  {
   "cell_type": "code",
   "execution_count": 19,
   "id": "faced-finding",
   "metadata": {},
   "outputs": [
    {
     "data": {
      "image/png": "[encoded data removed]",
      "text/plain": [
       "<Figure size 432x288 with 1 Axes>"
      ]
     },
     "metadata": {
      "needs_background": "light"
     },
     "output_type": "display_data"
    }
   ],
   "source": [
    "## Plotting the cost\n",
    "\n",
    "plt.plot(epoch_cost)\n",
    "plt.ylabel('Cross Entropy')\n",
    "plt.xlabel('Epoch')\n",
    "plt.show()"
   ]
  },
  {
   "cell_type": "code",
   "execution_count": 20,
   "id": "prospective-charity",
   "metadata": {},
   "outputs": [
    {
     "name": "stdout",
     "output_type": "stream",
     "text": [
      "Predictions tensor([0, 0, 0, 1, 0]) \n",
      "True labels tensor([0, 0, 0, 1, 0])\n"
     ]
    }
   ],
   "source": [
    "## predicting the labels \n",
    "\n",
    "predictions = model.predict_(X_test_tnsr[:5,:])\n",
    "true_labels = y_test_tnsr[:5]\n",
    "\n",
    "print(f\"Predictions {predictions} \\nTrue labels {true_labels}\")"
   ]
  },
  {
   "cell_type": "code",
   "execution_count": 21,
   "id": "stable-membrane",
   "metadata": {},
   "outputs": [
    {
     "data": {
      "text/plain": [
       "tensor(0.8387)"
      ]
     },
     "execution_count": 21,
     "metadata": {},
     "output_type": "execute_result"
    }
   ],
   "source": [
    "### measuring the accuracy\n",
    "\n",
    "model.accuracy(X_test_tnsr, y_test_tnsr)"
   ]
  },
  {
   "cell_type": "code",
   "execution_count": 22,
   "id": "personalized-samba",
   "metadata": {},
   "outputs": [
    {
     "name": "stdout",
     "output_type": "stream",
     "text": [
      "Model accuracy of Neural network: 83.87%\n",
      "\n",
      "Confusion matrix:\n",
      " [[11  3]\n",
      " [ 2 15]]\n",
      "              precision    recall  f1-score   support\n",
      "\n",
      "           0       0.85      0.79      0.81        14\n",
      "           1       0.83      0.88      0.86        17\n",
      "\n",
      "    accuracy                           0.84        31\n",
      "   macro avg       0.84      0.83      0.84        31\n",
      "weighted avg       0.84      0.84      0.84        31\n",
      "\n"
     ]
    }
   ],
   "source": [
    "### Evaluating the model confusion matrix\n",
    "\n",
    "\n",
    "predictions_for_transformed = model.predict_(X_test_tnsr)\n",
    "\n",
    "\n",
    "cm = confusion_matrix(y_test_tnsr, predictions_for_transformed)\n",
    "\n",
    "print(f\"Model accuracy of Neural network: {accuracy_score(y_test, predictions_for_transformed)*100:.2f}%\\n\")\n",
    "print(f\"Confusion matrix:\\n {cm}\")\n",
    "print(classification_report(y_test, predictions_for_transformed))"
   ]
  },
  {
   "cell_type": "code",
   "execution_count": 23,
   "id": "adjusted-promotion",
   "metadata": {},
   "outputs": [],
   "source": [
    "_, predictions = model(X_test_tnsr)\n",
    "y_probabilities = predictions[:,1].detach().numpy()"
   ]
  },
  {
   "cell_type": "code",
   "execution_count": 24,
   "id": "computational-nebraska",
   "metadata": {},
   "outputs": [
    {
     "data": {
      "image/png": "[encoded data removed]",
      "text/plain": [
       "<Figure size 720x432 with 1 Axes>"
      ]
     },
     "metadata": {
      "needs_background": "light"
     },
     "output_type": "display_data"
    }
   ],
   "source": [
    "false_positive_rate_nn, true_positive_rate_nn, threshold_nn = roc_curve(y_test,y_probabilities)\n",
    "\n",
    "#Plotting ROC Curve\n",
    "plt.figure(figsize=(10,6))\n",
    "plt.title('ROC for Neural Network')\n",
    "plt.plot(false_positive_rate_nn, true_positive_rate_nn, linewidth=5, color='red')\n",
    "plt.plot([0,1],ls='--',linewidth=5)\n",
    "plt.plot([0,0],[1,0],c='.5')\n",
    "plt.plot([1,1],c='.5')\n",
    "plt.text(0.2,0.6,'AUC: {:.2f}'.format(roc_auc_score(y_test,y_probabilities)),size= 16)\n",
    "plt.xlabel('False Positive Rate')\n",
    "plt.ylabel('True Positive Rate')\n",
    "plt.show()"
   ]
  },
  {
   "cell_type": "code",
   "execution_count": 25,
   "id": "innocent-advance",
   "metadata": {},
   "outputs": [],
   "source": [
    "## Adding dropout to see how it effects the performance\n",
    "\n",
    "### model\n",
    "\n",
    "class MLP_(nn.Module):\n",
    "    def __init__(self, in_features, num_classes):\n",
    "        super(MLP_, self).__init__()\n",
    "        \n",
    "        self.num_classes = num_classes\n",
    "        self.in_features = in_features\n",
    "        \n",
    "        self.classifier = nn.Sequential(\n",
    "            nn.Linear(in_features=self.in_features, out_features=256),\n",
    "            nn.ReLU(),\n",
    "            nn.Dropout(),\n",
    "            nn.Linear(in_features=256, out_features=128),\n",
    "            nn.ReLU(),\n",
    "            nn.Dropout(),\n",
    "            nn.Linear(in_features=128, out_features=num_classes))\n",
    "        \n",
    "    def forward(self, X):\n",
    "        logits = self.classifier(X)\n",
    "        probas = F.softmax(logits, dim=1)\n",
    "        return logits, probas\n",
    "    \n",
    "    def predict_(self, X):\n",
    "        logits, probas = self.forward(X)\n",
    "        predictions = torch.where(probas > .5, torch.tensor([1]), torch.tensor([0]))\n",
    "        predictions = torch.argmax(predictions, dim=1)\n",
    "        return predictions     \n",
    "    \n",
    "    def accuracy(self, X, y):\n",
    "        predictions = self.predict_(X)\n",
    "        total_correct = predictions == y\n",
    "        return torch.true_divide(torch.sum(total_correct), total_correct.size(0))"
   ]
  },
  {
   "cell_type": "code",
   "execution_count": 26,
   "id": "resident-separate",
   "metadata": {},
   "outputs": [
    {
     "name": "stdout",
     "output_type": "stream",
     "text": [
      "Epoch: 001/500 Train cost: 0.0024\n",
      "Time elapsed: 0.00min\n",
      "Epoch: 051/500 Train cost: 0.0013\n",
      "Time elapsed: 0.01min\n",
      "Epoch: 101/500 Train cost: 0.0010\n",
      "Time elapsed: 0.01min\n",
      "Epoch: 151/500 Train cost: 0.0008\n",
      "Time elapsed: 0.01min\n",
      "Epoch: 201/500 Train cost: 0.0007\n",
      "Time elapsed: 0.02min\n",
      "Epoch: 251/500 Train cost: 0.0005\n",
      "Time elapsed: 0.02min\n",
      "Epoch: 301/500 Train cost: 0.0006\n",
      "Time elapsed: 0.03min\n",
      "Epoch: 351/500 Train cost: 0.0003\n",
      "Time elapsed: 0.03min\n",
      "Epoch: 401/500 Train cost: 0.0003\n",
      "Time elapsed: 0.04min\n",
      "Epoch: 451/500 Train cost: 0.0002\n",
      "Time elapsed: 0.05min\n"
     ]
    }
   ],
   "source": [
    "## Model initialization\n",
    "\n",
    "model_dropout = MLP_(in_features=NUM_FEATURES, num_classes=NUM_CLASSES)\n",
    "\n",
    "## optimizer\n",
    "optimizer = torch.optim.Adam(model_dropout.parameters(), lr=LEARNING_RATE)\n",
    "\n",
    "## train the model \n",
    "## We only have small amount of datasets so we will train them all in one batch\n",
    "\n",
    "features = X_train_tnsr\n",
    "targets = y_train_tnsr\n",
    "\n",
    "start_time = time.time()\n",
    "epoch_cost = []\n",
    "for epoch in range(NUM_EPOCHS):\n",
    "    model_dropout.train()\n",
    "\n",
    "\n",
    "    # forward prop and back prop\n",
    "    logits, probas = model_dropout(features)\n",
    "\n",
    "    cost = F.cross_entropy(logits, targets)\n",
    "    optimizer.zero_grad()\n",
    "\n",
    "    cost.backward()\n",
    "\n",
    "    optimizer.step()\n",
    "\n",
    "    \n",
    "    cost = compute_loss(model_dropout, X_train_tnsr, y_train_tnsr)\n",
    "    epoch_cost.append(cost)\n",
    "    if epoch % 50 == 0:\n",
    "        print(f\"Epoch: {epoch+1:03d}/{NUM_EPOCHS} Train cost: {cost:.4f}\")\n",
    "        print(f\"Time elapsed: {(time.time() - start_time)/60:.2f}min\")"
   ]
  },
  {
   "cell_type": "code",
   "execution_count": 27,
   "id": "beautiful-submission",
   "metadata": {},
   "outputs": [
    {
     "data": {
      "image/png": "[encoded data removed]",
      "text/plain": [
       "<Figure size 432x288 with 1 Axes>"
      ]
     },
     "metadata": {
      "needs_background": "light"
     },
     "output_type": "display_data"
    }
   ],
   "source": [
    "## Plotting the cost\n",
    "\n",
    "plt.plot(epoch_cost)\n",
    "plt.ylabel('Cross Entropy')\n",
    "plt.xlabel('Epoch')\n",
    "plt.show()"
   ]
  },
  {
   "cell_type": "code",
   "execution_count": 28,
   "id": "pending-software",
   "metadata": {},
   "outputs": [
    {
     "name": "stdout",
     "output_type": "stream",
     "text": [
      "Model accuracy of Neural network: 87.10%\n",
      "\n",
      "Confusion matrix:\n",
      " [[12  2]\n",
      " [ 2 15]]\n",
      "              precision    recall  f1-score   support\n",
      "\n",
      "           0       0.86      0.86      0.86        14\n",
      "           1       0.88      0.88      0.88        17\n",
      "\n",
      "    accuracy                           0.87        31\n",
      "   macro avg       0.87      0.87      0.87        31\n",
      "weighted avg       0.87      0.87      0.87        31\n",
      "\n"
     ]
    }
   ],
   "source": [
    "### Evaluating the model confusion matrix\n",
    "\n",
    "## Dropout improved the performance by ~3%\n",
    "\n",
    "\n",
    "predictions = model_dropout.predict_(X_test_tnsr)\n",
    "\n",
    "\n",
    "cm = confusion_matrix(y_test_tnsr, predictions)\n",
    "\n",
    "print(f\"Model accuracy of Neural network: {accuracy_score(y_test, predictions)*100:.2f}%\\n\")\n",
    "print(f\"Confusion matrix:\\n {cm}\")\n",
    "print(classification_report(y_test, predictions))"
   ]
  },
  {
   "cell_type": "code",
   "execution_count": 29,
   "id": "destroyed-excitement",
   "metadata": {},
   "outputs": [],
   "source": [
    "_, predictions = model_dropout(X_test_tnsr)\n",
    "y_probabilities = predictions[:,1].detach().numpy()"
   ]
  },
  {
   "cell_type": "code",
   "execution_count": 30,
   "id": "sharing-bridge",
   "metadata": {},
   "outputs": [
    {
     "data": {
      "image/png": "[encoded data removed]",
      "text/plain": [
       "<Figure size 720x432 with 1 Axes>"
      ]
     },
     "metadata": {
      "needs_background": "light"
     },
     "output_type": "display_data"
    }
   ],
   "source": [
    "false_positive_rate_nn, true_positive_rate_nn, threshold_nn = roc_curve(y_test,y_probabilities)\n",
    "\n",
    "#Plotting ROC Curve\n",
    "plt.figure(figsize=(10,6))\n",
    "plt.title('ROC for Neural Network')\n",
    "plt.plot(false_positive_rate_nn, true_positive_rate_nn, linewidth=5, color='red')\n",
    "plt.plot([0,1],ls='--',linewidth=5)\n",
    "plt.plot([0,0],[1,0],c='.5')\n",
    "plt.plot([1,1],c='.5')\n",
    "plt.text(0.2,0.6,'AUC: {:.2f}'.format(roc_auc_score(y_test,y_probabilities)),size= 16)\n",
    "plt.xlabel('False Positive Rate')\n",
    "plt.ylabel('True Positive Rate')\n",
    "plt.show()"
   ]
  },
  {
   "cell_type": "code",
   "execution_count": 31,
   "id": "dried-default",
   "metadata": {},
   "outputs": [],
   "source": [
    "## Adding batch norm to see how it effects the performance\n",
    "\n",
    "### model\n",
    "\n",
    "class MLP_(nn.Module):\n",
    "    def __init__(self, in_features, num_classes):\n",
    "        super(MLP_, self).__init__()\n",
    "        \n",
    "        self.num_classes = num_classes\n",
    "        self.in_features = in_features\n",
    "        \n",
    "        self.classifier = nn.Sequential(\n",
    "            nn.Linear(in_features=self.in_features, out_features=256),\n",
    "            nn.BatchNorm1d(num_features=256),\n",
    "            nn.ReLU(),\n",
    "            nn.Dropout(),\n",
    "            nn.Linear(in_features=256, out_features=128),\n",
    "            nn.BatchNorm1d(num_features=128),\n",
    "            nn.ReLU(),\n",
    "            nn.Dropout(),\n",
    "            nn.Linear(in_features=128, out_features=num_classes))\n",
    "        \n",
    "    def forward(self, X):\n",
    "        logits = self.classifier(X)\n",
    "        probas = F.softmax(logits, dim=1)\n",
    "        return logits, probas\n",
    "    \n",
    "    def predict_(self, X):\n",
    "        logits, probas = self.forward(X)\n",
    "        predictions = torch.where(probas > .5, torch.tensor([1]), torch.tensor([0]))\n",
    "        predictions = torch.argmax(predictions, dim=1)\n",
    "        return predictions     \n",
    "    \n",
    "    def accuracy(self, X, y):\n",
    "        predictions = self.predict_(X)\n",
    "        total_correct = predictions == y\n",
    "        return torch.true_divide(torch.sum(total_correct), total_correct.size(0))"
   ]
  },
  {
   "cell_type": "code",
   "execution_count": 32,
   "id": "gentle-liabilities",
   "metadata": {},
   "outputs": [
    {
     "name": "stdout",
     "output_type": "stream",
     "text": [
      "Epoch: 001/500 Train cost: 0.0025\n",
      "Time elapsed: 0.00min\n",
      "Epoch: 051/500 Train cost: 0.0011\n",
      "Time elapsed: 0.02min\n",
      "Epoch: 101/500 Train cost: 0.0009\n",
      "Time elapsed: 0.04min\n",
      "Epoch: 151/500 Train cost: 0.0007\n",
      "Time elapsed: 0.06min\n",
      "Epoch: 201/500 Train cost: 0.0005\n",
      "Time elapsed: 0.08min\n",
      "Epoch: 251/500 Train cost: 0.0004\n",
      "Time elapsed: 0.10min\n",
      "Epoch: 301/500 Train cost: 0.0004\n",
      "Time elapsed: 0.12min\n",
      "Epoch: 351/500 Train cost: 0.0004\n",
      "Time elapsed: 0.14min\n",
      "Epoch: 401/500 Train cost: 0.0002\n",
      "Time elapsed: 0.18min\n",
      "Epoch: 451/500 Train cost: 0.0003\n",
      "Time elapsed: 0.22min\n"
     ]
    }
   ],
   "source": [
    "### Adding regularization to the same model to see if the generalization performance increases\n",
    "\n",
    "## Model initialization\n",
    "\n",
    "model_dropout_batchnorm = MLP_(in_features=NUM_FEATURES, num_classes=NUM_CLASSES)\n",
    "\n",
    "## optimizer\n",
    "optimizer = torch.optim.Adam(model_dropout_batchnorm.parameters(), lr=LEARNING_RATE, weight_decay=0)\n",
    "\n",
    "## train the model \n",
    "## We only have small amount of datasets so we will train them all in one batch\n",
    "\n",
    "features = X_train_tnsr\n",
    "targets = y_train_tnsr\n",
    "\n",
    "start_time = time.time()\n",
    "epoch_cost = []\n",
    "for epoch in range(NUM_EPOCHS):\n",
    "    model_dropout_batchnorm.train()\n",
    "\n",
    "\n",
    "    # forward prop and back prop\n",
    "    logits, probas = model_dropout_batchnorm(features)\n",
    "\n",
    "    cost = F.cross_entropy(logits, targets)\n",
    "    optimizer.zero_grad()\n",
    "\n",
    "    cost.backward()\n",
    "\n",
    "    optimizer.step()\n",
    "\n",
    "    \n",
    "    cost = compute_loss(model_dropout_batchnorm, X_train_tnsr, y_train_tnsr)\n",
    "    epoch_cost.append(cost)\n",
    "    if epoch % 50 == 0:\n",
    "        print(f\"Epoch: {epoch+1:03d}/{NUM_EPOCHS} Train cost: {cost:.4f}\")\n",
    "        print(f\"Time elapsed: {(time.time() - start_time)/60:.2f}min\")"
   ]
  },
  {
   "cell_type": "code",
   "execution_count": 33,
   "id": "increasing-document",
   "metadata": {},
   "outputs": [
    {
     "name": "stdout",
     "output_type": "stream",
     "text": [
      "Model accuracy of Neural network: 83.87%\n",
      "\n",
      "Confusion matrix:\n",
      " [[10  4]\n",
      " [ 1 16]]\n",
      "              precision    recall  f1-score   support\n",
      "\n",
      "           0       0.91      0.71      0.80        14\n",
      "           1       0.80      0.94      0.86        17\n",
      "\n",
      "    accuracy                           0.84        31\n",
      "   macro avg       0.85      0.83      0.83        31\n",
      "weighted avg       0.85      0.84      0.84        31\n",
      "\n"
     ]
    }
   ],
   "source": [
    "### Evaluating the model confusion matrix\n",
    "\n",
    "## Adding Batchnorm improved the performance by ~5%\n",
    "\n",
    "\n",
    "predictions = model_dropout_batchnorm.predict_(X_test_tnsr)\n",
    "\n",
    "\n",
    "cm = confusion_matrix(y_test_tnsr, predictions)\n",
    "\n",
    "print(f\"Model accuracy of Neural network: {accuracy_score(y_test, predictions)*100:.2f}%\\n\")\n",
    "print(f\"Confusion matrix:\\n {cm}\")\n",
    "print(classification_report(y_test, predictions))"
   ]
  },
  {
   "cell_type": "code",
   "execution_count": 34,
   "id": "everyday-beaver",
   "metadata": {},
   "outputs": [
    {
     "data": {
      "image/png": "[encoded data removed]",
      "text/plain": [
       "<Figure size 432x288 with 1 Axes>"
      ]
     },
     "metadata": {
      "needs_background": "light"
     },
     "output_type": "display_data"
    }
   ],
   "source": [
    "## Plotting the cost\n",
    "\n",
    "plt.plot(epoch_cost)\n",
    "plt.ylabel('Cross Entropy')\n",
    "plt.xlabel('Epoch')\n",
    "plt.show()"
   ]
  },
  {
   "cell_type": "code",
   "execution_count": 35,
   "id": "interim-tuition",
   "metadata": {},
   "outputs": [],
   "source": [
    "_, predictions = model_dropout_batchnorm(X_test_tnsr)"
   ]
  },
  {
   "cell_type": "code",
   "execution_count": 36,
   "id": "impaired-musical",
   "metadata": {},
   "outputs": [],
   "source": [
    "y_probabilities = predictions[:,1].detach().numpy()"
   ]
  },
  {
   "cell_type": "code",
   "execution_count": 37,
   "id": "square-robinson",
   "metadata": {},
   "outputs": [
    {
     "data": {
      "image/png": "[encoded data removed]",
      "text/plain": [
       "<Figure size 720x432 with 1 Axes>"
      ]
     },
     "metadata": {
      "needs_background": "light"
     },
     "output_type": "display_data"
    }
   ],
   "source": [
    "false_positive_rate_nn, true_positive_rate_nn, threshold_nn = roc_curve(y_test,y_probabilities)\n",
    "\n",
    "#Plotting ROC Curve\n",
    "plt.figure(figsize=(10,6))\n",
    "plt.title('ROC for Neural Network')\n",
    "plt.plot(false_positive_rate_nn, true_positive_rate_nn, linewidth=5, color='red')\n",
    "plt.plot([0,1],ls='--',linewidth=5)\n",
    "plt.plot([0,0],[1,0],c='.5')\n",
    "plt.plot([1,1],c='.5')\n",
    "plt.text(0.2,0.6,'AUC: {:.2f}'.format(roc_auc_score(y_test,y_probabilities)),size= 16)\n",
    "plt.xlabel('False Positive Rate')\n",
    "plt.ylabel('True Positive Rate')\n",
    "plt.show()"
   ]
  },
  {
   "cell_type": "code",
   "execution_count": 40,
   "id": "shaped-hydrogen",
   "metadata": {},
   "outputs": [
    {
     "data": {
      "text/plain": [
       "array([0.        , 0.05882353, 0.17647059, 0.17647059, 0.82352941,\n",
       "       0.82352941, 0.88235294, 0.88235294, 1.        , 1.        ])"
      ]
     },
     "execution_count": 40,
     "metadata": {},
     "output_type": "execute_result"
    }
   ],
   "source": [
    "true_positive_rate_nn"
   ]
  },
  {
   "cell_type": "code",
   "execution_count": 41,
   "id": "identified-permission",
   "metadata": {},
   "outputs": [
    {
     "data": {
      "text/plain": [
       "array([0.        , 0.        , 0.        , 0.07142857, 0.07142857,\n",
       "       0.35714286, 0.35714286, 0.5       , 0.5       , 1.        ])"
      ]
     },
     "execution_count": 41,
     "metadata": {},
     "output_type": "execute_result"
    }
   ],
   "source": [
    "false_positive_rate_nn"
   ]
  },
  {
   "cell_type": "code",
   "execution_count": 61,
   "id": "environmental-communications",
   "metadata": {},
   "outputs": [
    {
     "data": {
      "text/plain": [
       "98.16176295280457"
      ]
     },
     "execution_count": 61,
     "metadata": {},
     "output_type": "execute_result"
    }
   ],
   "source": [
    "## accuracy in training set \n",
    "\n",
    "model_dropout_batchnorm.accuracy(X_train_tnsr, y_train_tnsr).item() * 100 "
   ]
  },
  {
   "cell_type": "code",
   "execution_count": null,
   "id": "ethical-walker",
   "metadata": {},
   "outputs": [],
   "source": []
  }
 ],
 "metadata": {
  "kernelspec": {
   "display_name": "Python 3",
   "language": "python",
   "name": "python3"
  },
  "language_info": {
   "codemirror_mode": {
    "name": "ipython",
    "version": 3
   },
   "file_extension": ".py",
   "mimetype": "text/x-python",
   "name": "python",
   "nbconvert_exporter": "python",
   "pygments_lexer": "ipython3",
   "version": "3.8.5"
  }
 },
 "nbformat": 4,
 "nbformat_minor": 5
}
